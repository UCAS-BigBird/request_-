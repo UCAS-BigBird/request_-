{
 "cells": [
  {
   "cell_type": "code",
   "execution_count": 16,
   "metadata": {},
   "outputs": [
    {
     "name": "stdout",
     "output_type": "stream",
     "text": [
      "    排名    \t 学校名称 \t    总分    \n",
      "    1     \t 清华大学 \t   95.9   \n",
      "    2     \t 北京大学 \t   82.6   \n",
      "    3     \t 浙江大学 \t    80    \n",
      "    4     \t上海交通大学\t   78.7   \n",
      "    5     \t 复旦大学 \t   70.9   \n",
      "    6     \t 南京大学 \t   66.1   \n",
      "    7     \t中国科学技术大学\t   65.5   \n",
      "    8     \t哈尔滨工业大学\t   63.5   \n",
      "    9     \t华中科技大学\t   62.9   \n",
      "    10    \t 中山大学 \t   62.1   \n",
      "    11    \t 东南大学 \t   61.4   \n",
      "    12    \t 天津大学 \t   60.8   \n",
      "    13    \t 同济大学 \t   59.8   \n",
      "    14    \t北京航空航天大学\t   59.6   \n",
      "    15    \t 四川大学 \t   59.4   \n",
      "    16    \t 武汉大学 \t   59.1   \n",
      "    17    \t西安交通大学\t   58.9   \n",
      "    18    \t 南开大学 \t   58.3   \n",
      "    19    \t大连理工大学\t   56.9   \n",
      "    20    \t 山东大学 \t   56.3   \n"
     ]
    }
   ],
   "source": [
    "import requests\n",
    "from bs4 import BeautifulSoup\n",
    "import bs4\n",
    "alluniv=[]\n",
    "\n",
    "def getHTMLText(url):\n",
    "    try:    \n",
    "        r=requests.get(url,timeout=30)\n",
    "        r.raise_for_status()\n",
    "        r.encoding=r.apparent_encoding\n",
    "        return r.text\n",
    "    except:\n",
    "        print(\"error\")\n",
    "        \n",
    "def fillUnivList(html):\n",
    "    soup=BeautifulSoup(html,\"lxml\")\n",
    "    data=soup.find_all('tr')\n",
    "    for tr in data:\n",
    "        ltd=tr.find_all('td')\n",
    "        if len(ltd)==0:\n",
    "            continue\n",
    "        singleUniv=[]\n",
    "        for td in ltd:\n",
    "            singleUniv.append(td.string)\n",
    "        alluniv.append(singleUniv)\n",
    "            \n",
    "def printUnivList(num):\n",
    "    print(\"{:^10}\\t{:^6}\\t{:^10}\".format(\"排名\",\"学校名称\",\"总分\"))\n",
    "    for i in range(num):\n",
    "        u=alluniv[i]\n",
    "        print(\"{:^10}\\t{:^6}\\t{:^10}\".format(u[0],u[1],u[3]))\n",
    "    \n",
    "def main():\n",
    "    uinfo=[]\n",
    "    url=\"http://www.zuihaodaxue.cn/zuihaodaxuepaiming2016.html\"\n",
    "    html=getHTMLText(url)\n",
    "    fillUnivList(html)\n",
    "    printUnivList(20)\n",
    "if __name__ == \"__main__\":\n",
    "    main()"
   ]
  },
  {
   "cell_type": "markdown",
   "metadata": {},
   "source": [
    "# 需要注意的是 isintance是用来判断变量的类型\n",
    "例如下文  a int 之间的区别\n"
   ]
  },
  {
   "cell_type": "code",
   "execution_count": 13,
   "metadata": {},
   "outputs": [
    {
     "data": {
      "text/plain": [
       "True"
      ]
     },
     "execution_count": 13,
     "metadata": {},
     "output_type": "execute_result"
    }
   ],
   "source": [
    "a=2\n",
    "isinstance(a,int)\n",
    "\n"
   ]
  },
  {
   "cell_type": "code",
   "execution_count": 15,
   "metadata": {},
   "outputs": [
    {
     "name": "stdout",
     "output_type": "stream",
     "text": [
      "\u0007\n"
     ]
    }
   ],
   "source": [
    "    print(\"\\a\")"
   ]
  },
  {
   "cell_type": "code",
   "execution_count": null,
   "metadata": {},
   "outputs": [],
   "source": []
  }
 ],
 "metadata": {
  "kernelspec": {
   "display_name": "Python 3",
   "language": "python",
   "name": "python3"
  },
  "language_info": {
   "codemirror_mode": {
    "name": "ipython",
    "version": 3
   },
   "file_extension": ".py",
   "mimetype": "text/x-python",
   "name": "python",
   "nbconvert_exporter": "python",
   "pygments_lexer": "ipython3",
   "version": "3.6.5"
  }
 },
 "nbformat": 4,
 "nbformat_minor": 2
}
